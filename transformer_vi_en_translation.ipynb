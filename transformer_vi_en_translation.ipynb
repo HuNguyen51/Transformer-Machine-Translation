{
  "cells": [
    {
      "cell_type": "code",
      "source": [
        "from google.colab import drive\n",
        "drive.mount('/content/drive')"
      ],
      "metadata": {
        "colab": {
          "base_uri": "https://localhost:8080/"
        },
        "id": "c4qVCYr5ZN8e",
        "outputId": "6c72e6c4-a0ba-4987-92f0-3f8ae7c359ba"
      },
      "execution_count": 129,
      "outputs": [
        {
          "output_type": "stream",
          "name": "stdout",
          "text": [
            "Drive already mounted at /content/drive; to attempt to forcibly remount, call drive.mount(\"/content/drive\", force_remount=True).\n"
          ]
        }
      ]
    },
    {
      "cell_type": "markdown",
      "metadata": {
        "id": "L3gJ8P-Nvu2M"
      },
      "source": [
        "# Import module"
      ]
    },
    {
      "cell_type": "code",
      "execution_count": 130,
      "metadata": {
        "execution": {
          "iopub.execute_input": "2023-04-16T02:32:21.147744Z",
          "iopub.status.busy": "2023-04-16T02:32:21.146702Z",
          "iopub.status.idle": "2023-04-16T02:32:21.153939Z",
          "shell.execute_reply": "2023-04-16T02:32:21.152570Z",
          "shell.execute_reply.started": "2023-04-16T02:32:21.147703Z"
        },
        "id": "YL7UaUUTwVzg",
        "trusted": true
      },
      "outputs": [],
      "source": [
        "!pip install transformers --quiet"
      ]
    },
    {
      "cell_type": "code",
      "execution_count": 131,
      "metadata": {
        "execution": {
          "iopub.execute_input": "2023-04-16T02:32:21.156842Z",
          "iopub.status.busy": "2023-04-16T02:32:21.156357Z",
          "iopub.status.idle": "2023-04-16T02:32:21.166436Z",
          "shell.execute_reply": "2023-04-16T02:32:21.165438Z",
          "shell.execute_reply.started": "2023-04-16T02:32:21.156806Z"
        },
        "id": "djAXuy-G2ShL",
        "trusted": true
      },
      "outputs": [],
      "source": [
        "import pandas as pd\n",
        "import tensorflow as tf\n",
        "import numpy as np\n",
        "import os"
      ]
    },
    {
      "cell_type": "markdown",
      "metadata": {
        "id": "xy5x5z4HLj3-"
      },
      "source": [
        "# Tạo các hàm tiền xử lý"
      ]
    },
    {
      "cell_type": "code",
      "execution_count": 132,
      "metadata": {
        "execution": {
          "iopub.execute_input": "2023-04-16T02:32:21.169235Z",
          "iopub.status.busy": "2023-04-16T02:32:21.168210Z",
          "iopub.status.idle": "2023-04-16T02:32:37.843188Z",
          "shell.execute_reply": "2023-04-16T02:32:37.842140Z",
          "shell.execute_reply.started": "2023-04-16T02:32:21.169199Z"
        },
        "id": "fyuHlJNqvteP",
        "trusted": true,
        "colab": {
          "base_uri": "https://localhost:8080/",
          "height": 423
        },
        "outputId": "5bfb4feb-1163-4a42-e4c2-dcaea8c34230"
      },
      "outputs": [
        {
          "output_type": "execute_result",
          "data": {
            "text/plain": [
              "                                                     en  \\\n",
              "0     i asked for money for food, aunt asked for mon...   \n",
              "1     da nang researches texting utility when violat...   \n",
              "2     confused about 70-year-old mother stealing dau...   \n",
              "3     changes in vehicle registration and transfer f...   \n",
              "4          cases requiring expertise in economic cases.   \n",
              "...                                                 ...   \n",
              "8135  come to phu quoc to experience the world's lon...   \n",
              "8136  prime minister nguyen xuan phuc and lao prime ...   \n",
              "8137              the story of the cable car installer.   \n",
              "8138  strengthen cooperation in science, technology ...   \n",
              "8139  kylie jenner gave birth to her first daughter ...   \n",
              "\n",
              "                                                     vi  \n",
              "0                 cháu đòi tiền cơm , dì đòi tiền nhà .  \n",
              "1     đà nẵng nghiên_cứu tiện_ích nhắn_tin khi vi_ph...  \n",
              "2        khó xử vụ mẹ 70 tuổi trộm xe_hơi của con_gái .  \n",
              "3     thay_đổi về đăng_ký , chuyển_nhượng xe từ 12/2...  \n",
              "4     những trường_hợp cần trưng_cầu giám_định trong...  \n",
              "...                                                 ...  \n",
              "8135  đến phú quốc trải_nghiệm tuyết cáp_treo vượt b...  \n",
              "8136  thủ_tướng nguyễn xuân_phúc và thủ_tướng lào tớ...  \n",
              "8137                       chuyện về thợ lắp cáp_treo .  \n",
              "8138  tăng_cường hợp_tác khoa_học , công_nghệ và viễ...  \n",
              "8139     kylie jenner sinh con_gái đầu_lòng ở tuổi 20 .  \n",
              "\n",
              "[8140 rows x 2 columns]"
            ],
            "text/html": [
              "\n",
              "  <div id=\"df-5661c2b3-21b3-48d4-a203-6fc621c06f46\">\n",
              "    <div class=\"colab-df-container\">\n",
              "      <div>\n",
              "<style scoped>\n",
              "    .dataframe tbody tr th:only-of-type {\n",
              "        vertical-align: middle;\n",
              "    }\n",
              "\n",
              "    .dataframe tbody tr th {\n",
              "        vertical-align: top;\n",
              "    }\n",
              "\n",
              "    .dataframe thead th {\n",
              "        text-align: right;\n",
              "    }\n",
              "</style>\n",
              "<table border=\"1\" class=\"dataframe\">\n",
              "  <thead>\n",
              "    <tr style=\"text-align: right;\">\n",
              "      <th></th>\n",
              "      <th>en</th>\n",
              "      <th>vi</th>\n",
              "    </tr>\n",
              "  </thead>\n",
              "  <tbody>\n",
              "    <tr>\n",
              "      <th>0</th>\n",
              "      <td>i asked for money for food, aunt asked for mon...</td>\n",
              "      <td>cháu đòi tiền cơm , dì đòi tiền nhà .</td>\n",
              "    </tr>\n",
              "    <tr>\n",
              "      <th>1</th>\n",
              "      <td>da nang researches texting utility when violat...</td>\n",
              "      <td>đà nẵng nghiên_cứu tiện_ích nhắn_tin khi vi_ph...</td>\n",
              "    </tr>\n",
              "    <tr>\n",
              "      <th>2</th>\n",
              "      <td>confused about 70-year-old mother stealing dau...</td>\n",
              "      <td>khó xử vụ mẹ 70 tuổi trộm xe_hơi của con_gái .</td>\n",
              "    </tr>\n",
              "    <tr>\n",
              "      <th>3</th>\n",
              "      <td>changes in vehicle registration and transfer f...</td>\n",
              "      <td>thay_đổi về đăng_ký , chuyển_nhượng xe từ 12/2...</td>\n",
              "    </tr>\n",
              "    <tr>\n",
              "      <th>4</th>\n",
              "      <td>cases requiring expertise in economic cases.</td>\n",
              "      <td>những trường_hợp cần trưng_cầu giám_định trong...</td>\n",
              "    </tr>\n",
              "    <tr>\n",
              "      <th>...</th>\n",
              "      <td>...</td>\n",
              "      <td>...</td>\n",
              "    </tr>\n",
              "    <tr>\n",
              "      <th>8135</th>\n",
              "      <td>come to phu quoc to experience the world's lon...</td>\n",
              "      <td>đến phú quốc trải_nghiệm tuyết cáp_treo vượt b...</td>\n",
              "    </tr>\n",
              "    <tr>\n",
              "      <th>8136</th>\n",
              "      <td>prime minister nguyen xuan phuc and lao prime ...</td>\n",
              "      <td>thủ_tướng nguyễn xuân_phúc và thủ_tướng lào tớ...</td>\n",
              "    </tr>\n",
              "    <tr>\n",
              "      <th>8137</th>\n",
              "      <td>the story of the cable car installer.</td>\n",
              "      <td>chuyện về thợ lắp cáp_treo .</td>\n",
              "    </tr>\n",
              "    <tr>\n",
              "      <th>8138</th>\n",
              "      <td>strengthen cooperation in science, technology ...</td>\n",
              "      <td>tăng_cường hợp_tác khoa_học , công_nghệ và viễ...</td>\n",
              "    </tr>\n",
              "    <tr>\n",
              "      <th>8139</th>\n",
              "      <td>kylie jenner gave birth to her first daughter ...</td>\n",
              "      <td>kylie jenner sinh con_gái đầu_lòng ở tuổi 20 .</td>\n",
              "    </tr>\n",
              "  </tbody>\n",
              "</table>\n",
              "<p>8140 rows × 2 columns</p>\n",
              "</div>\n",
              "      <button class=\"colab-df-convert\" onclick=\"convertToInteractive('df-5661c2b3-21b3-48d4-a203-6fc621c06f46')\"\n",
              "              title=\"Convert this dataframe to an interactive table.\"\n",
              "              style=\"display:none;\">\n",
              "        \n",
              "  <svg xmlns=\"http://www.w3.org/2000/svg\" height=\"24px\"viewBox=\"0 0 24 24\"\n",
              "       width=\"24px\">\n",
              "    <path d=\"M0 0h24v24H0V0z\" fill=\"none\"/>\n",
              "    <path d=\"M18.56 5.44l.94 2.06.94-2.06 2.06-.94-2.06-.94-.94-2.06-.94 2.06-2.06.94zm-11 1L8.5 8.5l.94-2.06 2.06-.94-2.06-.94L8.5 2.5l-.94 2.06-2.06.94zm10 10l.94 2.06.94-2.06 2.06-.94-2.06-.94-.94-2.06-.94 2.06-2.06.94z\"/><path d=\"M17.41 7.96l-1.37-1.37c-.4-.4-.92-.59-1.43-.59-.52 0-1.04.2-1.43.59L10.3 9.45l-7.72 7.72c-.78.78-.78 2.05 0 2.83L4 21.41c.39.39.9.59 1.41.59.51 0 1.02-.2 1.41-.59l7.78-7.78 2.81-2.81c.8-.78.8-2.07 0-2.86zM5.41 20L4 18.59l7.72-7.72 1.47 1.35L5.41 20z\"/>\n",
              "  </svg>\n",
              "      </button>\n",
              "      \n",
              "  <style>\n",
              "    .colab-df-container {\n",
              "      display:flex;\n",
              "      flex-wrap:wrap;\n",
              "      gap: 12px;\n",
              "    }\n",
              "\n",
              "    .colab-df-convert {\n",
              "      background-color: #E8F0FE;\n",
              "      border: none;\n",
              "      border-radius: 50%;\n",
              "      cursor: pointer;\n",
              "      display: none;\n",
              "      fill: #1967D2;\n",
              "      height: 32px;\n",
              "      padding: 0 0 0 0;\n",
              "      width: 32px;\n",
              "    }\n",
              "\n",
              "    .colab-df-convert:hover {\n",
              "      background-color: #E2EBFA;\n",
              "      box-shadow: 0px 1px 2px rgba(60, 64, 67, 0.3), 0px 1px 3px 1px rgba(60, 64, 67, 0.15);\n",
              "      fill: #174EA6;\n",
              "    }\n",
              "\n",
              "    [theme=dark] .colab-df-convert {\n",
              "      background-color: #3B4455;\n",
              "      fill: #D2E3FC;\n",
              "    }\n",
              "\n",
              "    [theme=dark] .colab-df-convert:hover {\n",
              "      background-color: #434B5C;\n",
              "      box-shadow: 0px 1px 3px 1px rgba(0, 0, 0, 0.15);\n",
              "      filter: drop-shadow(0px 1px 2px rgba(0, 0, 0, 0.3));\n",
              "      fill: #FFFFFF;\n",
              "    }\n",
              "  </style>\n",
              "\n",
              "      <script>\n",
              "        const buttonEl =\n",
              "          document.querySelector('#df-5661c2b3-21b3-48d4-a203-6fc621c06f46 button.colab-df-convert');\n",
              "        buttonEl.style.display =\n",
              "          google.colab.kernel.accessAllowed ? 'block' : 'none';\n",
              "\n",
              "        async function convertToInteractive(key) {\n",
              "          const element = document.querySelector('#df-5661c2b3-21b3-48d4-a203-6fc621c06f46');\n",
              "          const dataTable =\n",
              "            await google.colab.kernel.invokeFunction('convertToInteractive',\n",
              "                                                     [key], {});\n",
              "          if (!dataTable) return;\n",
              "\n",
              "          const docLinkHtml = 'Like what you see? Visit the ' +\n",
              "            '<a target=\"_blank\" href=https://colab.research.google.com/notebooks/data_table.ipynb>data table notebook</a>'\n",
              "            + ' to learn more about interactive tables.';\n",
              "          element.innerHTML = '';\n",
              "          dataTable['output_type'] = 'display_data';\n",
              "          await google.colab.output.renderOutput(dataTable, element);\n",
              "          const docLink = document.createElement('div');\n",
              "          docLink.innerHTML = docLinkHtml;\n",
              "          element.appendChild(docLink);\n",
              "        }\n",
              "      </script>\n",
              "    </div>\n",
              "  </div>\n",
              "  "
            ]
          },
          "metadata": {},
          "execution_count": 132
        }
      ],
      "source": [
        "# Đọc dữ liệu\n",
        "ROOT_PATH = 'drive/MyDrive/dataset/vi_en_translation'\n",
        "filename = 'translate.csv'\n",
        "df = pd.read_csv(os.path.join(ROOT_PATH, filename), index_col=0)\n",
        "df"
      ]
    },
    {
      "cell_type": "code",
      "execution_count": 133,
      "metadata": {
        "execution": {
          "iopub.execute_input": "2023-04-16T02:35:02.545897Z",
          "iopub.status.busy": "2023-04-16T02:35:02.545590Z",
          "iopub.status.idle": "2023-04-16T02:35:02.553202Z",
          "shell.execute_reply": "2023-04-16T02:35:02.552000Z",
          "shell.execute_reply.started": "2023-04-16T02:35:02.545864Z"
        },
        "id": "PgWVJ6eCLj3_",
        "trusted": true
      },
      "outputs": [],
      "source": [
        "MAX_LENGTH = 32"
      ]
    },
    {
      "cell_type": "markdown",
      "metadata": {
        "id": "I57cpQwYLj4C"
      },
      "source": [
        "# Transformer with Decoder"
      ]
    },
    {
      "cell_type": "markdown",
      "metadata": {
        "id": "OIUrsZy4Lj4D"
      },
      "source": [
        "### Tiền xử lý dữ liệu"
      ]
    },
    {
      "cell_type": "code",
      "execution_count": 134,
      "metadata": {
        "colab": {
          "base_uri": "https://localhost:8080/"
        },
        "execution": {
          "iopub.execute_input": "2023-04-16T02:35:02.555791Z",
          "iopub.status.busy": "2023-04-16T02:35:02.554984Z",
          "iopub.status.idle": "2023-04-16T02:35:04.644866Z",
          "shell.execute_reply": "2023-04-16T02:35:04.643749Z",
          "shell.execute_reply.started": "2023-04-16T02:35:02.555756Z"
        },
        "id": "CsQXvfAJJAiL",
        "outputId": "36fd329a-fdea-4988-eb5b-b8cfed8ce92d",
        "trusted": true
      },
      "outputs": [
        {
          "output_type": "stream",
          "name": "stderr",
          "text": [
            "Special tokens have been added in the vocabulary, make sure the associated word embeddings are fine-tuned or trained.\n"
          ]
        }
      ],
      "source": [
        "from transformers import AutoTokenizer\n",
        "# Tokenizer để encode đầu vào văn bản\n",
        "vi_tokenizer = AutoTokenizer.from_pretrained('vinai/phobert-base')\n",
        "en_tokenizer = AutoTokenizer.from_pretrained('bert-base-uncased')"
      ]
    },
    {
      "cell_type": "code",
      "execution_count": 135,
      "metadata": {
        "id": "l2GCVA4vYt12"
      },
      "outputs": [],
      "source": [
        "en = list(df['en'].values)\n",
        "vi = list(df['vi'].values)"
      ]
    },
    {
      "cell_type": "code",
      "execution_count": 136,
      "metadata": {
        "id": "v69gXDrQYt12"
      },
      "outputs": [],
      "source": [
        "en_ids = en_tokenizer(en, max_length=MAX_LENGTH, padding='max_length', truncation=True, return_attention_mask=False, return_token_type_ids=False).input_ids\n",
        "vi_ids = vi_tokenizer(vi, max_length=MAX_LENGTH, padding='max_length', truncation=True, return_attention_mask=False, return_token_type_ids=False).input_ids"
      ]
    },
    {
      "cell_type": "code",
      "execution_count": 137,
      "metadata": {
        "colab": {
          "base_uri": "https://localhost:8080/"
        },
        "id": "mv6aRPQkYt12",
        "outputId": "6642fbda-878b-45a7-8304-8c8ccbd927d9"
      },
      "outputs": [
        {
          "output_type": "execute_result",
          "data": {
            "text/plain": [
              "([0,\n",
              "  575,\n",
              "  1652,\n",
              "  123,\n",
              "  1412,\n",
              "  4,\n",
              "  9657,\n",
              "  1652,\n",
              "  123,\n",
              "  69,\n",
              "  5,\n",
              "  2,\n",
              "  1,\n",
              "  1,\n",
              "  1,\n",
              "  1,\n",
              "  1,\n",
              "  1,\n",
              "  1,\n",
              "  1,\n",
              "  1,\n",
              "  1,\n",
              "  1,\n",
              "  1,\n",
              "  1,\n",
              "  1,\n",
              "  1,\n",
              "  1,\n",
              "  1,\n",
              "  1,\n",
              "  1,\n",
              "  1],\n",
              " [101,\n",
              "  1045,\n",
              "  2356,\n",
              "  2005,\n",
              "  2769,\n",
              "  2005,\n",
              "  2833,\n",
              "  1010,\n",
              "  5916,\n",
              "  2356,\n",
              "  2005,\n",
              "  2769,\n",
              "  2005,\n",
              "  1996,\n",
              "  2160,\n",
              "  1012,\n",
              "  102,\n",
              "  0,\n",
              "  0,\n",
              "  0,\n",
              "  0,\n",
              "  0,\n",
              "  0,\n",
              "  0,\n",
              "  0,\n",
              "  0,\n",
              "  0,\n",
              "  0,\n",
              "  0,\n",
              "  0,\n",
              "  0,\n",
              "  0])"
            ]
          },
          "metadata": {},
          "execution_count": 137
        }
      ],
      "source": [
        "vi_ids[0], en_ids[0]"
      ]
    },
    {
      "cell_type": "markdown",
      "metadata": {
        "id": "V3I4u-yJF2X1"
      },
      "source": [
        "# Model"
      ]
    },
    {
      "cell_type": "code",
      "execution_count": 138,
      "metadata": {
        "execution": {
          "iopub.execute_input": "2023-04-16T03:18:16.887972Z",
          "iopub.status.busy": "2023-04-16T03:18:16.887263Z",
          "iopub.status.idle": "2023-04-16T03:18:16.895864Z",
          "shell.execute_reply": "2023-04-16T03:18:16.894615Z",
          "shell.execute_reply.started": "2023-04-16T03:18:16.887936Z"
        },
        "id": "kvT-QF_3F2X1",
        "trusted": true
      },
      "outputs": [],
      "source": [
        "# Các hàm quan trọng\n",
        "# positional Encoding\n",
        "def get_angles(pos, i, d_model):\n",
        "    angle_rates = 1 / np.power(10000, (2 * (i//2)) / np.float32(d_model))\n",
        "    return pos * angle_rates\n",
        "def positional_encoding(position, d_model):\n",
        "    angle_rads = get_angles(np.arange(position)[:, np.newaxis],\n",
        "                          np.arange(d_model)[np.newaxis, :],\n",
        "                          d_model)\n",
        "\n",
        "    # sử dụng sin cho vị trí số chẵn trong mảng, 2i\n",
        "    angle_rads[:, 0::2] = np.sin(angle_rads[:, 0::2])\n",
        "\n",
        "    # sử dụng cos cho vị trí số lẻ trong mảng, 2i+1\n",
        "    angle_rads[:, 1::2] = np.cos(angle_rads[:, 1::2])\n",
        "\n",
        "    pos_encoding = angle_rads[np.newaxis, ...]\n",
        "\n",
        "    return tf.cast(pos_encoding, dtype=tf.float32)"
      ]
    },
    {
      "cell_type": "code",
      "execution_count": 139,
      "metadata": {
        "execution": {
          "iopub.execute_input": "2023-04-16T03:18:16.902176Z",
          "iopub.status.busy": "2023-04-16T03:18:16.901650Z",
          "iopub.status.idle": "2023-04-16T03:18:16.914266Z",
          "shell.execute_reply": "2023-04-16T03:18:16.912595Z",
          "shell.execute_reply.started": "2023-04-16T03:18:16.902141Z"
        },
        "id": "VpKUMAu6F2X2",
        "trusted": true
      },
      "outputs": [],
      "source": [
        "# TokenEmbedding\n",
        "class TokenEmbedding(tf.keras.layers.Layer):\n",
        "    def __init__(self, d_model, \n",
        "                        input_vocab_size, # tokenizer.vocab_size\n",
        "                        max_length): # max_seq_length - MAX_LENGTH\n",
        "        super().__init__()\n",
        "        self.d_model = d_model\n",
        "        self.embedding = tf.keras.layers.Embedding(input_vocab_size, d_model)\n",
        "        self.pos_encoding = positional_encoding(max_length, d_model)\n",
        "\n",
        "    def call(self, x): # x(batch_size, input_seq_len)\n",
        "        seq_len = tf.shape(x)[1]\n",
        "        # cộng token embedding và position encoding.\n",
        "        x = self.embedding(x)  # x(batch_size, input_seq_len, d_model), Input Embedding\n",
        "        x *= tf.math.sqrt(tf.cast(self.d_model, tf.float32))\n",
        "\n",
        "        pos_enc = self.pos_encoding[:, :seq_len, :] # Positional Encoding   \n",
        "        \n",
        "        return x + pos_enc"
      ]
    },
    {
      "cell_type": "code",
      "execution_count": 140,
      "metadata": {
        "id": "kH-nRzgRYt14"
      },
      "outputs": [],
      "source": [
        "# Encoder\n",
        "class EncoderLayer(tf.keras.layers.Layer):\n",
        "    def __init__(self, d_model, \n",
        "                        num_heads, \n",
        "                        dff, \n",
        "                        rate=0.1):\n",
        "        super(EncoderLayer, self).__init__()\n",
        "        # sử dụng multi-head attention để tìm sự liên kết giữa các từ trong câu\n",
        "        self.att = tf.keras.layers.MultiHeadAttention(key_dim=d_model, num_heads=num_heads)\n",
        "\n",
        "        self.ffn = tf.keras.Sequential([\n",
        "          tf.keras.layers.Dense(dff, activation='relu'),\n",
        "          tf.keras.layers.Dense(d_model)\n",
        "        ])\n",
        "\n",
        "        self.layernorm1 = tf.keras.layers.LayerNormalization(epsilon=1e-6)\n",
        "        self.layernorm2 = tf.keras.layers.LayerNormalization(epsilon=1e-6)\n",
        "\n",
        "        self.dropout1 = tf.keras.layers.Dropout(rate)\n",
        "        self.dropout2 = tf.keras.layers.Dropout(rate)\n",
        "    \n",
        "    def call(self, x, training):\n",
        "        # sub layer 1\n",
        "        attn_output = self.att(x, x)  # (batch_size, input_seq_len, d_model)\n",
        "        attn_output = self.dropout1(attn_output, training=training)\n",
        "        out1 = self.layernorm1(x + attn_output)  # (batch_size, input_seq_len, d_model)\n",
        "        # sub layer 2\n",
        "        ffn_output = self.ffn(out1)  # (batch_size, input_seq_len, d_model)\n",
        "        ffn_output = self.dropout2(ffn_output, training=training)\n",
        "        out2 = self.layernorm2(out1 + ffn_output)  # (batch_size, input_seq_len, d_model)\n",
        "        # return output\n",
        "        return out2\n",
        "\n",
        "class Encoder(tf.keras.layers.Layer):\n",
        "    def __init__(self, num_layers, \n",
        "                        d_model, \n",
        "                        num_heads, \n",
        "                        dff, \n",
        "                        rate):\n",
        "        super().__init__()\n",
        "\n",
        "        self.num_layers = num_layers\n",
        "        self.enc_layers = [EncoderLayer(d_model, num_heads, dff, rate) \n",
        "                           for _ in range(num_layers)]\n",
        "\n",
        "    def call(self, x, training=False): # (batch_size, input_seq_len)\n",
        "        for i in range(self.num_layers):\n",
        "              x = self.enc_layers[i](x, training)\n",
        "        return x  # (batch_size, input_seq_len, d_model)\n"
      ]
    },
    {
      "cell_type": "code",
      "execution_count": 141,
      "metadata": {
        "execution": {
          "iopub.execute_input": "2023-04-16T03:18:16.920437Z",
          "iopub.status.busy": "2023-04-16T03:18:16.919892Z",
          "iopub.status.idle": "2023-04-16T03:18:16.935210Z",
          "shell.execute_reply": "2023-04-16T03:18:16.934053Z",
          "shell.execute_reply.started": "2023-04-16T03:18:16.920406Z"
        },
        "id": "7rmfT9F9F2X2",
        "trusted": true
      },
      "outputs": [],
      "source": [
        "# Decoder \n",
        "class DecoderLayer(tf.keras.layers.Layer):\n",
        "    def __init__(self, d_model, # embedding_dimension\n",
        "                    num_heads, \n",
        "                    dff, # feed_forward_dimension\n",
        "                    rate):\n",
        "        super().__init__()\n",
        "        \n",
        "        # Khởi tạo multihead Attention\n",
        "        self.self_att = tf.keras.layers.MultiHeadAttention(key_dim=d_model, num_heads=num_heads)\n",
        "        self.enc_att = tf.keras.layers.MultiHeadAttention(key_dim=d_model, num_heads=num_heads)\n",
        "        # Linear FNN\n",
        "        self.ffn = tf.keras.Sequential(\n",
        "                [\n",
        "                    tf.keras.layers.Dense(dff, activation=\"relu\"),\n",
        "                    tf.keras.layers.Dense(d_model),\n",
        "                ]\n",
        "            )\n",
        "        \n",
        "        # Add Norm\n",
        "        self.layernorm1 = tf.keras.layers.LayerNormalization(epsilon=1e-6)\n",
        "        self.layernorm2 = tf.keras.layers.LayerNormalization(epsilon=1e-6)\n",
        "        self.layernorm3 = tf.keras.layers.LayerNormalization(epsilon=1e-6)\n",
        "        # Dropout\n",
        "        self.dropout1 = tf.keras.layers.Dropout(rate)\n",
        "        self.dropout2 = tf.keras.layers.Dropout(rate)\n",
        "        self.dropout3 = tf.keras.layers.Dropout(rate)\n",
        "\n",
        "    def causal_attention_mask(self, batch_size, n_dest, n_src, dtype):\n",
        "        # nếu ta sử dụng Multi-head attention trên cả câu như ở Encoder, \n",
        "        # Decoder sẽ nhận luôn từ tiếp theo mà nó cần dịch. Để ngăn điều đó, \n",
        "        # khi Decoder dịch đến từ thứ i, phần sau của câu sẽ bị che lại (masked) \n",
        "        # và Decoder chỉ được phép nhận thấy phần nó đã dịch trước đó.\n",
        "        i = tf.range(n_dest)[:, None]\n",
        "        j = tf.range(n_src)\n",
        "        m = i >= j - n_src + n_dest\n",
        "        mask = tf.cast(m, dtype)\n",
        "        mask = tf.reshape(mask, [1, n_dest, n_src])\n",
        "        mult = tf.concat(\n",
        "            [tf.expand_dims(batch_size, -1), tf.constant([1, 1], dtype=tf.int32)], 0\n",
        "        )\n",
        "        # trả về mảng mới với các chiều dữ liệu mới dựa theo mult\n",
        "        return tf.tile(mask, mult)\n",
        "\n",
        "    def call(self, enc_out, target, training=False):\n",
        "        shape = tf.shape(target)\n",
        "        batch_size = shape[0]\n",
        "        seq_len = shape[1]\n",
        "        causal_mask = self.causal_attention_mask(batch_size, seq_len, seq_len, tf.bool)\n",
        "        # sub layer 1 (decoder self-attention)\n",
        "        attn1 = self.self_att(target, target, attention_mask=causal_mask)  # (batch_size, target_seq_len, d_model)\n",
        "        attn1 = self.dropout1(attn1, training=training)\n",
        "        out1 = self.layernorm1(attn1 + target) # Residual -> Norm\n",
        "\n",
        "        # sub layer 2 (encoder - decoder attention)\n",
        "        attn2 = self.enc_att(out1, enc_out)\n",
        "        attn2 = self.dropout2(attn2, training=training)\n",
        "        out2 =  self.layernorm2(attn2 + out1) # Residual -> Norm\n",
        "\n",
        "        # sub layer 3\n",
        "        ffn_output = self.ffn(out2)  # (batch_size, target_seq_len, d_model)\n",
        "        ffn_output = self.dropout3(ffn_output, training=training)\n",
        "        out3 = self.layernorm2(ffn_output + out2)   # Residual -> Norm\n",
        "        # output decode out2\n",
        "        return out3 \n",
        "\n",
        "class Decoder(tf.keras.layers.Layer):\n",
        "    def __init__(self, num_layers,\n",
        "                    d_model, # embedding_dimension\n",
        "                    num_heads, \n",
        "                    dff, # feed_forward_dimension\n",
        "                    rate):\n",
        "        super().__init__()\n",
        "        self.num_layers = num_layers\n",
        "        self.dec_layers = [DecoderLayer(d_model, num_heads, dff, rate) \n",
        "                           for _ in range(num_layers)]\n",
        "    def call(self, enc_out, target, training=False):\n",
        "        for i in range(self.num_layers):\n",
        "              target = self.dec_layers[i](enc_out, target)\n",
        "        return target"
      ]
    },
    {
      "cell_type": "code",
      "execution_count": 142,
      "metadata": {
        "execution": {
          "iopub.execute_input": "2023-04-16T04:04:30.055078Z",
          "iopub.status.busy": "2023-04-16T04:04:30.053840Z",
          "iopub.status.idle": "2023-04-16T04:04:30.070584Z",
          "shell.execute_reply": "2023-04-16T04:04:30.069563Z",
          "shell.execute_reply.started": "2023-04-16T04:04:30.055032Z"
        },
        "id": "EyPVJZLLF2X2",
        "trusted": true
      },
      "outputs": [],
      "source": [
        "class Transformer(tf.keras.Model):\n",
        "    def __init__(self,\n",
        "                d_model,           # dimension token embeddings\n",
        "                num_heads,         # Số Attention Head\n",
        "                dff,               # Số chiều của lớp feed forward\n",
        "                num_layers_enc,     # Số lượng cá lớp encoder chồng lên nhau\n",
        "                num_layers_dec,        # Số lượng cá lớp decoder chồng lên nhau\n",
        "                source_max_length,        # MAX_LENGTH - maximum sequence length\n",
        "                target_max_length,        # MAX_LENGTH - maximum sequence length\n",
        "                input_vocab_size,  # vocab_size - Số lượng token có trong tokenizer (vocab size)\n",
        "                output_vocab_size,  # vocab_size - Số lượng token có trong tokenizer (vocab size) (cũng là num class)\n",
        "                rate  = 0.1             # dropout rate\n",
        "        ):\n",
        "        super().__init__()\n",
        "        self.loss_metric = tf.keras.metrics.Mean(name=\"loss\")\n",
        "\n",
        "        self.num_layers_dec = num_layers_dec\n",
        "        self.num_layers_enc = num_layers_enc\n",
        "\n",
        "        self.source_maxlen = source_max_length\n",
        "        self.target_maxlen = target_max_length\n",
        "        \n",
        "        # Khởi tạo tầng Embedding\n",
        "        self.enc_input = TokenEmbedding(\n",
        "            d_model, \n",
        "            input_vocab_size, # tokenizer.vocab_size\n",
        "            source_max_length\n",
        "        )\n",
        "        self.dec_input = TokenEmbedding(\n",
        "            d_model, \n",
        "            output_vocab_size, # tokenizer.vocab_size\n",
        "            target_max_length\n",
        "        )\n",
        "\n",
        "        # Khởi tạo các lớp decoder và encoder chồng lên nhau\n",
        "        self.encoder = Encoder(num_layers_enc, d_model, num_heads, dff, rate=0.1)\n",
        "        self.decoder = Decoder(num_layers_dec, d_model, num_heads, dff, rate=0.1)\n",
        "\n",
        "        # Khởi tạo lớp đầu ra\n",
        "        self.output_vocab_size = output_vocab_size\n",
        "        self.classifier = tf.keras.layers.Dense(output_vocab_size)\n",
        "\n",
        "    def encode(self, source):\n",
        "        x = self.enc_input(source) # pisitional encoding & embeding\n",
        "        x = self.encoder(x) # encode output\n",
        "        return x\n",
        "    def decode(self, enc_out, target):\n",
        "        # Dự đoán từng từ trong câu\n",
        "        y = self.dec_input(target) # pisitional encoding & embeding\n",
        "        y = self.decoder(enc_out, y) # decode output\n",
        "        return y\n",
        "\n",
        "    def call(self, inputs): \n",
        "        source = inputs[0]\n",
        "        target = inputs[1]\n",
        "        x = self.encode(source) # encode output\n",
        "        y = self.decode(x, target)\n",
        "        return self.classifier(y)\n",
        "\n",
        "    @property\n",
        "    def metrics(self):\n",
        "        return [self.loss_metric]\n",
        "\n",
        "    # Hàm train model\n",
        "    def train_step(self, batch): \n",
        "        source = batch[\"source\"]\n",
        "        target = batch[\"target\"]\n",
        "        dec_input = target[:, :-1]\n",
        "        dec_target = target[:, 1:]\n",
        "        with tf.GradientTape() as tape:\n",
        "            preds = self([source, dec_input])\n",
        "            one_hot = tf.one_hot(dec_target, depth=self.output_vocab_size)\n",
        "            mask = tf.math.logical_not(tf.math.equal(dec_target, 0))\n",
        "            loss = self.compiled_loss(one_hot, preds, sample_weight=mask)\n",
        "        trainable_vars = self.trainable_variables\n",
        "        gradients = tape.gradient(loss, trainable_vars)\n",
        "        self.optimizer.apply_gradients(zip(gradients, trainable_vars))\n",
        "        self.loss_metric.update_state(loss)\n",
        "        return {\"loss\": self.loss_metric.result()}\n",
        "\n",
        "    def generate(self, source, target_start_token_ids):\n",
        "        # Thực hiện suy luận trên một loạt đầu vào (batch of input) bằng cách sử dụng giải thuật greedy\n",
        "        # seq_len = tf.shape(x)[1]\n",
        "        enc = self.encode(source)\n",
        "\n",
        "        bs = tf.shape(source)[0]\n",
        "        dec_input = tf.ones((bs, 1), dtype=tf.int32) * target_start_token_ids\n",
        "        for _ in range(self.target_maxlen-1): # self.target_maxlen - seq_len\n",
        "            dec_out = self.decode(enc, dec_input)\n",
        "            logits = self.classifier(dec_out)\n",
        "            # logits là giá trị từ tiếp theo của n từ trước nó\n",
        "            logits = tf.argmax(logits, axis=-1, output_type=tf.int32)\n",
        "            last_logit = tf.expand_dims(logits[:, -1], axis=-1)\n",
        "            dec_input = tf.concat([dec_input, last_logit], axis=-1)\n",
        "        return dec_input\n"
      ]
    },
    {
      "cell_type": "code",
      "execution_count": 143,
      "metadata": {
        "execution": {
          "iopub.execute_input": "2023-04-16T04:04:32.161987Z",
          "iopub.status.busy": "2023-04-16T04:04:32.161161Z",
          "iopub.status.idle": "2023-04-16T04:04:32.244046Z",
          "shell.execute_reply": "2023-04-16T04:04:32.242943Z",
          "shell.execute_reply.started": "2023-04-16T04:04:32.161946Z"
        },
        "id": "DH4-eYOfZuxK",
        "trusted": true
      },
      "outputs": [],
      "source": [
        "# Khởi tạo model\n",
        "model = Transformer(\n",
        "    d_model = 256 ,        \n",
        "    num_heads = 4  ,\n",
        "    dff = 256*4,\n",
        "    num_layers_enc = 8,\n",
        "    num_layers_dec = 8,\n",
        "    source_max_length = MAX_LENGTH,\n",
        "    target_max_length = MAX_LENGTH,\n",
        "    input_vocab_size = vi_tokenizer.vocab_size,\n",
        "    output_vocab_size = en_tokenizer.vocab_size,\n",
        "    rate  = 0.1 \n",
        ")"
      ]
    },
    {
      "cell_type": "code",
      "source": [
        "BATCH_SIZE = 64"
      ],
      "metadata": {
        "id": "yWtO2yn-pLmy"
      },
      "execution_count": 144,
      "outputs": []
    },
    {
      "cell_type": "code",
      "source": [
        "vi_slices = tf.data.Dataset.from_tensor_slices(vi_ids)\n",
        "en_slices = tf.data.Dataset.from_tensor_slices(en_ids)\n",
        "\n",
        "data = tf.data.Dataset.zip((vi_slices, en_slices))\n",
        "data = data.map(lambda x, y: {\"source\": x, \"target\": y})\n",
        "data = data.batch(BATCH_SIZE)\n",
        "data = data.prefetch(tf.data.AUTOTUNE)"
      ],
      "metadata": {
        "id": "vO_9-kz_e7iD"
      },
      "execution_count": 145,
      "outputs": []
    },
    {
      "cell_type": "code",
      "execution_count": 146,
      "metadata": {
        "colab": {
          "base_uri": "https://localhost:8080/"
        },
        "execution": {
          "iopub.execute_input": "2023-04-16T04:24:45.870895Z",
          "iopub.status.busy": "2023-04-16T04:24:45.870181Z",
          "iopub.status.idle": "2023-04-16T04:50:20.378523Z",
          "shell.execute_reply": "2023-04-16T04:50:20.377417Z",
          "shell.execute_reply.started": "2023-04-16T04:24:45.870854Z"
        },
        "id": "OScmMav0aM82",
        "outputId": "9ca79b3c-ab50-42ee-c7f7-88cc52c3e15b",
        "trusted": true
      },
      "outputs": [
        {
          "output_type": "stream",
          "name": "stdout",
          "text": [
            "Epoch 1/100\n",
            "128/128 [==============================] - 122s 435ms/step - loss: 4.8982\n",
            "Epoch 2/100\n",
            "128/128 [==============================] - 34s 263ms/step - loss: 4.1962\n",
            "Epoch 3/100\n",
            "128/128 [==============================] - 33s 259ms/step - loss: 3.8395\n",
            "Epoch 4/100\n",
            "128/128 [==============================] - 33s 261ms/step - loss: 3.6650\n",
            "Epoch 5/100\n",
            "128/128 [==============================] - 34s 262ms/step - loss: 3.5444\n",
            "Epoch 6/100\n",
            "128/128 [==============================] - 34s 261ms/step - loss: 3.4476\n",
            "Epoch 7/100\n",
            "128/128 [==============================] - 34s 262ms/step - loss: 3.3631\n",
            "Epoch 8/100\n",
            "128/128 [==============================] - 34s 262ms/step - loss: 3.2762\n",
            "Epoch 9/100\n",
            "128/128 [==============================] - 34s 263ms/step - loss: 3.1922\n",
            "Epoch 10/100\n",
            "128/128 [==============================] - 33s 261ms/step - loss: 3.1147\n",
            "Epoch 11/100\n",
            "128/128 [==============================] - 33s 261ms/step - loss: 3.0469\n",
            "Epoch 12/100\n",
            "128/128 [==============================] - 34s 263ms/step - loss: 2.9782\n",
            "Epoch 13/100\n",
            "128/128 [==============================] - 33s 260ms/step - loss: 2.9068\n",
            "Epoch 14/100\n",
            "128/128 [==============================] - 34s 263ms/step - loss: 2.8404\n",
            "Epoch 15/100\n",
            "128/128 [==============================] - 34s 262ms/step - loss: 2.7811\n",
            "Epoch 16/100\n",
            "128/128 [==============================] - 34s 262ms/step - loss: 2.7226\n",
            "Epoch 17/100\n",
            "128/128 [==============================] - 33s 261ms/step - loss: 2.6560\n",
            "Epoch 18/100\n",
            "128/128 [==============================] - 34s 262ms/step - loss: 2.5892\n",
            "Epoch 19/100\n",
            "128/128 [==============================] - 33s 261ms/step - loss: 2.5210\n",
            "Epoch 20/100\n",
            "128/128 [==============================] - 34s 262ms/step - loss: 2.4604\n",
            "Epoch 21/100\n",
            "128/128 [==============================] - 34s 263ms/step - loss: 2.4059\n",
            "Epoch 22/100\n",
            "128/128 [==============================] - 34s 262ms/step - loss: 2.3549\n",
            "Epoch 23/100\n",
            "128/128 [==============================] - 34s 263ms/step - loss: 2.3090\n",
            "Epoch 24/100\n",
            "128/128 [==============================] - 34s 262ms/step - loss: 2.2669\n",
            "Epoch 25/100\n",
            "128/128 [==============================] - 34s 263ms/step - loss: 2.2173\n",
            "Epoch 26/100\n",
            "128/128 [==============================] - 34s 262ms/step - loss: 2.1583\n",
            "Epoch 27/100\n",
            "128/128 [==============================] - 34s 262ms/step - loss: 2.0974\n",
            "Epoch 28/100\n",
            "128/128 [==============================] - 34s 262ms/step - loss: 2.0440\n",
            "Epoch 29/100\n",
            "128/128 [==============================] - 34s 262ms/step - loss: 1.9979\n",
            "Epoch 30/100\n",
            "128/128 [==============================] - 33s 261ms/step - loss: 1.9553\n",
            "Epoch 31/100\n",
            "128/128 [==============================] - 34s 263ms/step - loss: 1.9156\n",
            "Epoch 32/100\n",
            "128/128 [==============================] - 33s 261ms/step - loss: 1.8720\n",
            "Epoch 33/100\n",
            "128/128 [==============================] - 34s 262ms/step - loss: 1.8313\n",
            "Epoch 34/100\n",
            "128/128 [==============================] - 34s 262ms/step - loss: 1.7901\n",
            "Epoch 35/100\n",
            "128/128 [==============================] - 33s 261ms/step - loss: 1.7524\n",
            "Epoch 36/100\n",
            "128/128 [==============================] - 34s 262ms/step - loss: 1.7222\n",
            "Epoch 37/100\n",
            "128/128 [==============================] - 34s 264ms/step - loss: 1.6850\n",
            "Epoch 38/100\n",
            "128/128 [==============================] - 33s 261ms/step - loss: 1.6435\n",
            "Epoch 39/100\n",
            "128/128 [==============================] - 33s 260ms/step - loss: 1.6038\n",
            "Epoch 40/100\n",
            "128/128 [==============================] - 34s 262ms/step - loss: 1.5575\n",
            "Epoch 41/100\n",
            "128/128 [==============================] - 33s 261ms/step - loss: 1.5126\n",
            "Epoch 42/100\n",
            "128/128 [==============================] - 33s 262ms/step - loss: 1.4672\n",
            "Epoch 43/100\n",
            "128/128 [==============================] - 33s 261ms/step - loss: 1.4263\n",
            "Epoch 44/100\n",
            "128/128 [==============================] - 33s 261ms/step - loss: 1.3904\n",
            "Epoch 45/100\n",
            "128/128 [==============================] - 34s 262ms/step - loss: 1.3565\n",
            "Epoch 46/100\n",
            "128/128 [==============================] - 34s 262ms/step - loss: 1.3272\n",
            "Epoch 47/100\n",
            "128/128 [==============================] - 34s 263ms/step - loss: 1.2977\n",
            "Epoch 48/100\n",
            "128/128 [==============================] - 34s 262ms/step - loss: 1.2674\n",
            "Epoch 49/100\n",
            "128/128 [==============================] - 33s 262ms/step - loss: 1.2378\n",
            "Epoch 50/100\n",
            "128/128 [==============================] - 34s 263ms/step - loss: 1.2065\n",
            "Epoch 51/100\n",
            "128/128 [==============================] - 33s 261ms/step - loss: 1.1767\n",
            "Epoch 52/100\n",
            "128/128 [==============================] - 33s 260ms/step - loss: 1.1489\n",
            "Epoch 53/100\n",
            "128/128 [==============================] - 34s 263ms/step - loss: 1.1248\n",
            "Epoch 54/100\n",
            "128/128 [==============================] - 33s 261ms/step - loss: 1.1015\n",
            "Epoch 55/100\n",
            "128/128 [==============================] - 33s 260ms/step - loss: 1.0815\n",
            "Epoch 56/100\n",
            "128/128 [==============================] - 34s 262ms/step - loss: 1.0643\n",
            "Epoch 57/100\n",
            "128/128 [==============================] - 34s 262ms/step - loss: 1.0476\n",
            "Epoch 58/100\n",
            "128/128 [==============================] - 33s 260ms/step - loss: 1.0281\n",
            "Epoch 59/100\n",
            "128/128 [==============================] - 33s 261ms/step - loss: 1.0112\n",
            "Epoch 60/100\n",
            "128/128 [==============================] - 33s 261ms/step - loss: 0.9891\n",
            "Epoch 61/100\n",
            "128/128 [==============================] - 33s 261ms/step - loss: 0.9632\n",
            "Epoch 62/100\n",
            "128/128 [==============================] - 33s 260ms/step - loss: 0.9388\n",
            "Epoch 63/100\n",
            "128/128 [==============================] - 33s 260ms/step - loss: 0.9183\n",
            "Epoch 64/100\n",
            "128/128 [==============================] - 33s 260ms/step - loss: 0.9017\n",
            "Epoch 65/100\n",
            "128/128 [==============================] - 33s 261ms/step - loss: 0.8867\n",
            "Epoch 66/100\n",
            "128/128 [==============================] - 34s 262ms/step - loss: 0.8736\n",
            "Epoch 67/100\n",
            "128/128 [==============================] - 33s 261ms/step - loss: 0.8635\n",
            "Epoch 68/100\n",
            "128/128 [==============================] - 34s 263ms/step - loss: 0.8544\n",
            "Epoch 69/100\n",
            "128/128 [==============================] - 34s 264ms/step - loss: 0.8472\n",
            "Epoch 70/100\n",
            "128/128 [==============================] - 33s 261ms/step - loss: 0.8393\n",
            "Epoch 71/100\n",
            "128/128 [==============================] - 33s 261ms/step - loss: 0.8322\n",
            "Epoch 72/100\n",
            "128/128 [==============================] - 34s 263ms/step - loss: 0.8243\n",
            "Epoch 73/100\n",
            "128/128 [==============================] - 33s 261ms/step - loss: 0.8177\n",
            "Epoch 74/100\n",
            "128/128 [==============================] - 34s 262ms/step - loss: 0.8110\n",
            "Epoch 75/100\n",
            "128/128 [==============================] - 34s 264ms/step - loss: 0.8060\n",
            "Epoch 76/100\n",
            "128/128 [==============================] - 34s 263ms/step - loss: 0.8002\n",
            "Epoch 77/100\n",
            "128/128 [==============================] - 34s 262ms/step - loss: 0.7920\n",
            "Epoch 78/100\n",
            "128/128 [==============================] - 34s 263ms/step - loss: 0.7842\n",
            "Epoch 79/100\n",
            "128/128 [==============================] - 34s 262ms/step - loss: 0.7778\n",
            "Epoch 80/100\n",
            "128/128 [==============================] - 33s 261ms/step - loss: 0.7714\n",
            "Epoch 81/100\n",
            "128/128 [==============================] - 34s 262ms/step - loss: 0.7648\n",
            "Epoch 82/100\n",
            "128/128 [==============================] - 33s 261ms/step - loss: 0.7610\n",
            "Epoch 83/100\n",
            "128/128 [==============================] - 34s 263ms/step - loss: 0.7576\n",
            "Epoch 84/100\n",
            "128/128 [==============================] - 34s 264ms/step - loss: 0.7569\n",
            "Epoch 85/100\n",
            "128/128 [==============================] - 34s 263ms/step - loss: 0.7567\n",
            "Epoch 86/100\n",
            "128/128 [==============================] - 34s 262ms/step - loss: 0.7568\n",
            "Epoch 87/100\n",
            "128/128 [==============================] - 33s 261ms/step - loss: 0.7575\n",
            "Epoch 88/100\n",
            "128/128 [==============================] - 34s 263ms/step - loss: 0.7565\n",
            "Epoch 89/100\n",
            "128/128 [==============================] - 33s 261ms/step - loss: 0.7567\n",
            "Epoch 90/100\n",
            "128/128 [==============================] - 34s 263ms/step - loss: 0.7600\n",
            "Epoch 91/100\n",
            "128/128 [==============================] - 34s 264ms/step - loss: 0.7627\n",
            "Epoch 92/100\n",
            "128/128 [==============================] - 34s 262ms/step - loss: 0.7583\n",
            "Epoch 93/100\n",
            "128/128 [==============================] - 33s 261ms/step - loss: 0.7551\n",
            "Epoch 94/100\n",
            "128/128 [==============================] - 33s 260ms/step - loss: 0.7505\n",
            "Epoch 95/100\n",
            "128/128 [==============================] - 33s 261ms/step - loss: 0.7440\n",
            "Epoch 96/100\n",
            "128/128 [==============================] - 33s 262ms/step - loss: 0.7405\n",
            "Epoch 97/100\n",
            "128/128 [==============================] - 34s 262ms/step - loss: 0.7381\n",
            "Epoch 98/100\n",
            "128/128 [==============================] - 33s 261ms/step - loss: 0.7357\n",
            "Epoch 99/100\n",
            "128/128 [==============================] - 33s 261ms/step - loss: 0.7340\n",
            "Epoch 100/100\n",
            "128/128 [==============================] - 34s 262ms/step - loss: 0.7327\n"
          ]
        }
      ],
      "source": [
        "# Khởi tạo hàm lỗi\n",
        "loss_fn = tf.keras.losses.CategoricalCrossentropy(\n",
        "    from_logits=True, label_smoothing=0.1,\n",
        ")\n",
        "# Khởi tạo thuật toán tối ưu Adam\n",
        "optimizer = tf.keras.optimizers.Adam(learning_rate=5e-5, epsilon=1e-8)\n",
        "# Compile và fit model với 200 epochs\n",
        "model.compile(optimizer=optimizer, loss=loss_fn)\n",
        "history = model.fit(data, epochs=100) "
      ]
    },
    {
      "cell_type": "code",
      "execution_count": 147,
      "metadata": {
        "execution": {
          "iopub.execute_input": "2023-04-16T05:16:26.295320Z",
          "iopub.status.busy": "2023-04-16T05:16:26.294101Z",
          "iopub.status.idle": "2023-04-16T05:16:27.769523Z",
          "shell.execute_reply": "2023-04-16T05:16:27.768317Z",
          "shell.execute_reply.started": "2023-04-16T05:16:26.295250Z"
        },
        "trusted": true,
        "id": "FlcBPG78Yt17"
      },
      "outputs": [],
      "source": [
        "# model.save_weights('./my_checkpoint')"
      ]
    },
    {
      "cell_type": "code",
      "execution_count": 150,
      "metadata": {
        "execution": {
          "iopub.execute_input": "2023-04-16T04:50:20.380904Z",
          "iopub.status.busy": "2023-04-16T04:50:20.380595Z",
          "iopub.status.idle": "2023-04-16T04:50:20.656411Z",
          "shell.execute_reply": "2023-04-16T04:50:20.655231Z",
          "shell.execute_reply.started": "2023-04-16T04:50:20.380875Z"
        },
        "id": "o_o72gax7Rx1",
        "trusted": true,
        "colab": {
          "base_uri": "https://localhost:8080/",
          "height": 592
        },
        "outputId": "67e8787c-47d2-41f2-dbc0-94f34ff1e575"
      },
      "outputs": [
        {
          "output_type": "display_data",
          "data": {
            "text/plain": [
              "<Figure size 1200x600 with 1 Axes>"
            ],
            "image/png": "[encoded data removed]"
          },
          "metadata": {}
        }
      ],
      "source": [
        "import matplotlib.pyplot as plt\n",
        "import seaborn as sns\n",
        "\n",
        "values = history.history['loss'] \n",
        "# Use plot styling from seaborn.  \n",
        "sns.set(style='darkgrid')\n",
        "\n",
        "# Increase the plot size and font size.\n",
        "sns.set(font_scale=1.5)\n",
        "plt.rcParams[\"figure.figsize\"] = (12,6)\n",
        "\n",
        "# Plot the learning curve.\n",
        "plt.plot(values , 'b')\n",
        "\n",
        "# Label the plot.\n",
        "plt.title(\"Training loss\")\n",
        "plt.xlabel(\"Epoch\")\n",
        "plt.ylabel(\"Loss\")\n",
        "\n",
        "plt.show()"
      ]
    },
    {
      "cell_type": "code",
      "execution_count": 159,
      "metadata": {
        "execution": {
          "iopub.execute_input": "2023-04-16T04:56:13.982121Z",
          "iopub.status.busy": "2023-04-16T04:56:13.981754Z",
          "iopub.status.idle": "2023-04-16T04:56:19.196195Z",
          "shell.execute_reply": "2023-04-16T04:56:19.195015Z",
          "shell.execute_reply.started": "2023-04-16T04:56:13.982087Z"
        },
        "id": "RMVgXvkQWUFu",
        "trusted": true,
        "colab": {
          "base_uri": "https://localhost:8080/"
        },
        "outputId": "655786a7-4659-437f-ff4e-95bb5ef2eba5"
      },
      "outputs": [
        {
          "output_type": "stream",
          "name": "stdout",
          "text": [
            "<s> cái kết đắng_chát sau 20 năm đám_cưới là lời tuyên_bố của chồng tệ_bạc :'giải_tán đi, tôi lấy vợ khác '. </s>\n",
            "\n",
            "[CLS] the bitter ending after 20 years of marriage is the declaration of a bad husband : wouldisbanded, i will get another wife '. [SEP]'[SEP]\n"
          ]
        }
      ],
      "source": [
        "idx = 8\n",
        "\n",
        "text_input = vi[idx:idx+1]\n",
        "input_ids = tf.convert_to_tensor(vi_tokenizer(text_input).input_ids)\n",
        "\n",
        "token_generate = model.generate(input_ids[:,:-1], 101) # bỏ </s>\n",
        "text_generated = en_tokenizer.decode(token_generate[0]) # SEP sẽ đại diện cho ký tự kết thúc câu\n",
        "\n",
        "print(vi_tokenizer.decode(input_ids[0]))\n",
        "print()\n",
        "print(text_generated)"
      ]
    }
  ],
  "metadata": {
    "accelerator": "GPU",
    "colab": {
      "provenance": []
    },
    "gpuClass": "standard",
    "kernelspec": {
      "display_name": "Python 3.9.12 64-bit",
      "language": "python",
      "name": "python3"
    },
    "language_info": {
      "codemirror_mode": {
        "name": "ipython",
        "version": 3
      },
      "file_extension": ".py",
      "mimetype": "text/x-python",
      "name": "python",
      "nbconvert_exporter": "python",
      "pygments_lexer": "ipython3",
      "version": "3.9.12"
    },
    "vscode": {
      "interpreter": {
        "hash": "ed7223ba540bd3a81e7847459b2696e9b61c5256178b545cec421c504a937c41"
      }
    }
  },
  "nbformat": 4,
  "nbformat_minor": 0
}